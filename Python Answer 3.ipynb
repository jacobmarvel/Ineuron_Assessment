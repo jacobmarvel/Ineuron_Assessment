{
 "cells": [
  {
   "cell_type": "code",
   "execution_count": null,
   "id": "79eb0c5a",
   "metadata": {},
   "outputs": [],
   "source": [
    "Mr. Karthiken works in a door mat manufacturing company. One day, he designed a new door mat with the following specifications:\n",
    "\n",
    "             a) Mat size must be N X M. (N is an odd natural number, and M is 3 times N.)\n",
    "              b) The design should have ‘WELCOME’ written in the center.\n",
    "              c) The design pattern should only use |, . and – characters.\n",
    "\n",
    "    Sample Design is given above image, Write a python code for this."
   ]
  },
  {
   "cell_type": "code",
   "execution_count": 3,
   "id": "25ff082b",
   "metadata": {},
   "outputs": [
    {
     "name": "stdout",
     "output_type": "stream",
     "text": [
      "Size: 7 x 21\n",
      "---------.|.---------\n",
      "------.|..|..|.------\n",
      "---.|..|..|..|..|.---\n",
      "-------WELCOME-------\n",
      "---.|..|..|..|..|.---\n",
      "------.|..|..|.------\n",
      "---------.|.---------\n",
      "\n",
      "\n",
      "Size: 11 x 33\n",
      "---------------.|.---------------\n",
      "------------.|..|..|.------------\n",
      "---------.|..|..|..|..|.---------\n",
      "------.|..|..|..|..|..|..|.------\n",
      "---.|..|..|..|..|..|..|..|..|.---\n",
      "-------------WELCOME-------------\n",
      "---.|..|..|..|..|..|..|..|..|.---\n",
      "------.|..|..|..|..|..|..|.------\n",
      "---------.|..|..|..|..|.---------\n",
      "------------.|..|..|.------------\n",
      "---------------.|.---------------\n"
     ]
    }
   ],
   "source": [
    "def create_doormat(N, M):\n",
    "    #top half\n",
    "    for i in range(1, N, 2): \n",
    "        pattern = \".|.\" * i\n",
    "        print(pattern.center(M, \"-\"))\n",
    "\n",
    "    # middle part with 'WELCOME'\n",
    "    print(\"WELCOME\".center(M, \"-\"))\n",
    "\n",
    "    # The bottom half \n",
    "    for i in range(N-2, -1, -2): \n",
    "        pattern = \".|.\" * i\n",
    "        print(pattern.center(M, \"-\"))\n",
    "\n",
    "# Example for 7x21\n",
    "N, M = 7, 21\n",
    "print(f\"Size: {N} x {M}\")\n",
    "create_doormat(N, M)\n",
    "\n",
    "print(\"\\n\")\n",
    "\n",
    "# Example for 11x33\n",
    "N, M = 11, 33\n",
    "print(f\"Size: {N} x {M}\")\n",
    "create_doormat(N, M)\n"
   ]
  },
  {
   "cell_type": "code",
   "execution_count": null,
   "id": "117112cd",
   "metadata": {},
   "outputs": [],
   "source": []
  }
 ],
 "metadata": {
  "kernelspec": {
   "display_name": "Python 3",
   "language": "python",
   "name": "python3"
  },
  "language_info": {
   "codemirror_mode": {
    "name": "ipython",
    "version": 3
   },
   "file_extension": ".py",
   "mimetype": "text/x-python",
   "name": "python",
   "nbconvert_exporter": "python",
   "pygments_lexer": "ipython3",
   "version": "3.6.13"
  }
 },
 "nbformat": 4,
 "nbformat_minor": 5
}
