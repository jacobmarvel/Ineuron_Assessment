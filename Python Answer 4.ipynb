{
 "cells": [
  {
   "cell_type": "code",
   "execution_count": null,
   "id": "8d7d7e6d",
   "metadata": {},
   "outputs": [],
   "source": [
    "Question: 4\n",
    "\n",
    "Given an array nums of n integers, return an array of all the unique quadruplets [nums[a], nums[b], nums[c], nums[d]] such that:\n",
    "\n",
    "   a) 0 <= a, b, c, d < n\n",
    "   b) a, b, c, and d are distinct.\n",
    "   c) nums[a] + nums[b] + nums[c] + nums[d] == target"
   ]
  },
  {
   "cell_type": "code",
   "execution_count": 2,
   "id": "b9b810f6",
   "metadata": {},
   "outputs": [
    {
     "data": {
      "text/plain": [
       "[[-2, -1, 1, 2], [-2, 0, 0, 2], [-1, 0, 0, 1]]"
      ]
     },
     "execution_count": 2,
     "metadata": {},
     "output_type": "execute_result"
    }
   ],
   "source": [
    "def four_sum(nums, target):\n",
    "    def k_sum(nums, target, k):\n",
    "        res = []\n",
    "        if not nums:\n",
    "            return res\n",
    "        average_value = target // k\n",
    "        if average_value < nums[0] or nums[-1] < average_value:\n",
    "            return res\n",
    "        if k == 2:\n",
    "            return two_sum(nums, target)\n",
    "        for i in range(len(nums)):\n",
    "            if i == 0 or nums[i - 1] != nums[i]:\n",
    "                for subset in k_sum(nums[i + 1:], target - nums[i], k - 1):\n",
    "                    res.append([nums[i]] + subset)\n",
    "        return res\n",
    "\n",
    "    def two_sum(nums, target):\n",
    "        res = []\n",
    "        lo, hi = 0, len(nums) - 1\n",
    "        while lo < hi:\n",
    "            curr_sum = nums[lo] + nums[hi]\n",
    "            if curr_sum < target or (lo > 0 and nums[lo] == nums[lo - 1]):\n",
    "                lo += 1\n",
    "            elif curr_sum > target or (hi < len(nums) - 1 and nums[hi] == nums[hi + 1]):\n",
    "                hi -= 1\n",
    "            else:\n",
    "                res.append([nums[lo], nums[hi]])\n",
    "                lo += 1\n",
    "                hi -= 1\n",
    "        return res\n",
    "\n",
    "    nums.sort()\n",
    "    return k_sum(nums, target, 4)\n",
    "\n",
    "# Example:\n",
    "nums = [1, 0, -1, 0, -2, 2]\n",
    "target = 0\n",
    "four_sum(nums, target)\n"
   ]
  },
  {
   "cell_type": "code",
   "execution_count": null,
   "id": "e1d0b76e",
   "metadata": {},
   "outputs": [],
   "source": []
  }
 ],
 "metadata": {
  "kernelspec": {
   "display_name": "Python 3",
   "language": "python",
   "name": "python3"
  },
  "language_info": {
   "codemirror_mode": {
    "name": "ipython",
    "version": 3
   },
   "file_extension": ".py",
   "mimetype": "text/x-python",
   "name": "python",
   "nbconvert_exporter": "python",
   "pygments_lexer": "ipython3",
   "version": "3.6.13"
  }
 },
 "nbformat": 4,
 "nbformat_minor": 5
}
