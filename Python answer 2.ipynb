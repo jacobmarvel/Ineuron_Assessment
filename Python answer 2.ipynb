{
 "cells": [
  {
   "cell_type": "code",
   "execution_count": null,
   "id": "42be96ad",
   "metadata": {},
   "outputs": [],
   "source": [
    "Question: 2\n",
    "\n",
    "\n",
    "Given an array of length ‘N’, where each element denotes the position of a stall. Now you have ‘N’ stalls and an integer ‘K’ which denotes the number of horses that are mad. To prevent the horses from hurting each other, you need to assign the horses to the stalls, such that the minimum distance between any two of them is as large as possible. Return the largest minimum distance.\n",
    "\n",
    "array: 1,2,4,8,9  &  k=3\n",
    "\n",
    "O/P: 3\n",
    "\n",
    "Explanation: 1st horse at stall 1, 2nd horse at stall 4 and 3rd horse at stall 8\n"
   ]
  },
  {
   "cell_type": "code",
   "execution_count": 2,
   "id": "330319e4",
   "metadata": {},
   "outputs": [
    {
     "name": "stdout",
     "output_type": "stream",
     "text": [
      "3\n"
     ]
    }
   ],
   "source": [
    "def find_largest_gap(stall_positions, horses_count):\n",
    "    def is_feasible(gap):\n",
    "        #position for the first horse\n",
    "        last_position = stall_positions[0]\n",
    "        allocated_horses = 1\n",
    "        for position in stall_positions[1:]:\n",
    "            if position - last_position >= gap:\n",
    "                # Allocate horse to current position\n",
    "                allocated_horses += 1\n",
    "                last_position = position\n",
    "                if allocated_horses == horses_count:\n",
    "                    return True\n",
    "        return False\n",
    "    \n",
    "    \n",
    "    stall_positions.sort()\n",
    "    min_gap = 0\n",
    "    max_gap = stall_positions[-1] - stall_positions[0]\n",
    "    optimal_gap = 0\n",
    "    \n",
    "    while min_gap <= max_gap:\n",
    "        current_gap = (min_gap + max_gap) // 2\n",
    "        if is_feasible(current_gap):\n",
    "            optimal_gap = current_gap\n",
    "            min_gap = current_gap + 1  # Look for a larger gap\n",
    "        else:\n",
    "            max_gap = current_gap - 1  # Reduce gap size\n",
    "    \n",
    "    return optimal_gap\n",
    "\n",
    "# Eg:\n",
    "stall_positions = [1, 2, 4, 8, 9]\n",
    "horses_count = 3\n",
    "largest_gap = find_largest_gap(stall_positions, horses_count)\n",
    "print(largest_gap)\n"
   ]
  },
  {
   "cell_type": "code",
   "execution_count": null,
   "id": "bbce1388",
   "metadata": {},
   "outputs": [],
   "source": []
  }
 ],
 "metadata": {
  "kernelspec": {
   "display_name": "Python 3",
   "language": "python",
   "name": "python3"
  },
  "language_info": {
   "codemirror_mode": {
    "name": "ipython",
    "version": 3
   },
   "file_extension": ".py",
   "mimetype": "text/x-python",
   "name": "python",
   "nbconvert_exporter": "python",
   "pygments_lexer": "ipython3",
   "version": "3.6.13"
  }
 },
 "nbformat": 4,
 "nbformat_minor": 5
}
