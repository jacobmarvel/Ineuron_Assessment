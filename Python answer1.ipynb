{
 "cells": [
  {
   "cell_type": "code",
   "execution_count": null,
   "id": "c216ed4f",
   "metadata": {},
   "outputs": [],
   "source": [
    "# Question: 1\n",
    "\n",
    "\n",
    "You have an input dictionary given,\n",
    "\n",
    "input_dict = {\"abc\":{\"def\":{\"ghi\":{\"jkl\":{\"mno\":{\"pqr\":{\"stu\":{\"vwx\":{\"yz\":\"you are finally here !!!\"}}}}}}}}}\n",
    "\n",
    "Task:  You have to write a Python function that will take this input and print it like that,\n",
    "\n",
    "output = {\"abc\":[\"def\",\"ghi\",\"jkl\",\"mno\",\"pqr\",\"stu\",\"vwx\",\"yz\"],\n",
    " \"def\":[\"ghi\",\"jkl\",\"mno\",\"pqr\",\"stu\",\"vwx\",\"yz\"],\n",
    " \"ghi\":[\"jkl\",\"mno\",\"pqr\",\"stu\",\"vwx\",\"yz\"],\n",
    " \"jkl\":[\"mno\",\"pqr\",\"stu\",\"vwx\",\"yz\"],\n",
    " \"mno\":[\"pqr\",\"stu\",\"vwx\",\"yz\"],\n",
    " \"pqr\":[\"stu\",\"vwx\",\"yz\"],\n",
    " \"stu\":[\"vwx\",\"yz\"],\n",
    " \"vwx\":[\"yz\"],\n",
    " \"yz\":[\"you are finally here !!!\"]}"
   ]
  },
  {
   "cell_type": "code",
   "execution_count": 8,
   "id": "76ede042",
   "metadata": {},
   "outputs": [
    {
     "name": "stdout",
     "output_type": "stream",
     "text": [
      "'abc': ['def', 'ghi', 'jkl', 'mno', 'pqr', 'stu', 'vwx', 'yz']\n",
      "'def': ['ghi', 'jkl', 'mno', 'pqr', 'stu', 'vwx', 'yz']\n",
      "'ghi': ['jkl', 'mno', 'pqr', 'stu', 'vwx', 'yz']\n",
      "'jkl': ['mno', 'pqr', 'stu', 'vwx', 'yz']\n",
      "'mno': ['pqr', 'stu', 'vwx', 'yz']\n",
      "'pqr': ['stu', 'vwx', 'yz']\n",
      "'stu': ['vwx', 'yz']\n",
      "'vwx': ['yz']\n",
      "'yz': ['you are finally here !!!']\n"
     ]
    }
   ],
   "source": [
    "#Answer:\n",
    "def extract_paths_from_dict(nested_dict, base_key='', delimiter=':'):\n",
    "    path_list = []\n",
    "    for key, value in nested_dict.items():\n",
    "        combined_key = f\"{base_key}{delimiter}{key}\" if base_key else key\n",
    "        if isinstance(value, dict):\n",
    "            path_list.extend(extract_paths_from_dict(value, combined_key, delimiter))\n",
    "        else:\n",
    "            path_list.append((combined_key, value))\n",
    "    return path_list\n",
    "\n",
    "def restructure_dict(nested_dict):\n",
    "    # Extract paths \n",
    "    extracted_paths = extract_paths_from_dict(nested_dict)\n",
    "    reformatted_dict = {}\n",
    "    for path, end_value in extracted_paths:\n",
    "        path_keys = path.split(':')\n",
    "        for i, current_key in enumerate(path_keys):\n",
    "            if current_key not in reformatted_dict:\n",
    "                reformatted_dict[current_key] = path_keys[i + 1:] if i + 1 < len(path_keys) else [end_value]\n",
    "            else:\n",
    "                next_key = path_keys[i + 1] if i + 1 < len(path_keys) else end_value\n",
    "                if next_key not in reformatted_dict[current_key]:\n",
    "                    reformatted_dict[current_key].append(next_key)\n",
    "    \n",
    "    final_key = extracted_paths[-1][0].split(':')[-1]\n",
    "    reformatted_dict[final_key] = [extracted_paths[-1][1]]\n",
    "    return reformatted_dict\n",
    "\n",
    "# Input\n",
    "original_dict = {\n",
    "    \"abc\": {\n",
    "        \"def\": {\n",
    "            \"ghi\": {\n",
    "                \"jkl\": {\n",
    "                    \"mno\": {\n",
    "                        \"pqr\": {\n",
    "                            \"stu\": {\n",
    "                                \"vwx\": {\n",
    "                                    \"yz\": \"you are finally here !!!\"\n",
    "                                }\n",
    "                            }\n",
    "                        }\n",
    "                    }\n",
    "                }\n",
    "            }\n",
    "        }\n",
    "    }\n",
    "}\n",
    "\n",
    "# Restructured dictionary\n",
    "new_format_dict = restructure_dict(original_dict)\n",
    "\n",
    "for key, sequence in new_format_dict.items():\n",
    "    print(f\"'{key}': {sequence}\")\n"
   ]
  },
  {
   "cell_type": "code",
   "execution_count": null,
   "id": "fb0fdde1",
   "metadata": {},
   "outputs": [],
   "source": []
  }
 ],
 "metadata": {
  "kernelspec": {
   "display_name": "Python 3",
   "language": "python",
   "name": "python3"
  },
  "language_info": {
   "codemirror_mode": {
    "name": "ipython",
    "version": 3
   },
   "file_extension": ".py",
   "mimetype": "text/x-python",
   "name": "python",
   "nbconvert_exporter": "python",
   "pygments_lexer": "ipython3",
   "version": "3.6.13"
  }
 },
 "nbformat": 4,
 "nbformat_minor": 5
}
